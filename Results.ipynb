{
 "cells": [
  {
   "cell_type": "code",
   "execution_count": null,
   "id": "fe78f3db",
   "metadata": {},
   "outputs": [],
   "source": [
    "import matplotlib.pyplot as plt\n",
    "import matplotlib.animation as animation\n",
    "import numpy as np \n",
    "import numpy.random as npr\n",
    "import scipy as sp\n",
    "import scipy.linalg as sl\n",
    "from scipy.fft import fft\n",
    "from scipy.fft import ifft\n"
   ]
  },
  {
   "cell_type": "markdown",
   "id": "03b0f6e3",
   "metadata": {},
   "source": [
    "La fonction barriere_reg renvoie un potentiel barrière avec une régularisation de sorte à ce que le potentiel soit dans $C^\\infty_C$. \n",
    "L'idée est de rajouter à un potentiel barrière classique entre $s$ et $s+l$ des splins $C^\\infty_C$. allant à $0$ en $\\varepsilon$.\n",
    "Cela régularise la solution et évite des problèmes éventuelles aussi bien théorique que numérique lorsque l'on utilise un potentiel discontinu."
   ]
  },
  {
   "cell_type": "code",
   "execution_count": null,
   "id": "c221cdcc",
   "metadata": {},
   "outputs": [],
   "source": [
    "splin_exp = lambda x: np.exp(-1/x)*(x>0) / (np.exp(-1/x)*(x>0)+ np.exp(-1/(1-x))*(x>0))\n",
    "raccord = lambda x,p1,p2,a,b: (1-splin_exp((x-a)/(b-a)))*p1 + splin_exp((x-a)/(b-a))*p2 \n",
    "\n",
    "def barriere_reg(X,t,x1,x2,epsi):\n",
    "    V=np.zeros(X.size)\n",
    "\n",
    "    for i in range(X.size) :\n",
    "        x = X[i]\n",
    "\n",
    "        if(x<x1-epsi):                      V[i] = 0 \n",
    "        elif((x1-epsi<x)  and (x<x1+epsi)): V[i] = raccord(x,0,V0,x1-epsi,x1+epsi)\n",
    "        elif((x1+epsi<x)  and (x<x2-epsi)): V[i] = V0\n",
    "        elif((x2-epsi<x)  and (x<x2+epsi)): V[i] = raccord(x,V0,0,x2-epsi,x2+epsi)\n",
    "        elif(x2+epsi<x):                    V[i] = 0\n",
    "\n",
    "    return V"
   ]
  },
  {
   "cell_type": "markdown",
   "id": "8a0f1de2",
   "metadata": {},
   "source": [
    "La fonction $\\textit{Kin(Nx)}$ renvoie le vecteur $[0,1,4,9..., (Nx/2)^2,- (Nx/2)^2, ...-1]$. Il pourra être utilisé lors du calcul de la dérivée seconde par TF. Elle pourra être remplacée par fftfreq par moment "
   ]
  },
  {
   "cell_type": "code",
   "execution_count": null,
   "id": "3a80eea4",
   "metadata": {},
   "outputs": [],
   "source": [
    "def Kin (Nx):\n",
    "    \n",
    "    Nx_2 = int((Nx/2)*(Nx%2==0) + ((Nx-1)/2)*(Nx%2==1)) +1\n",
    "    K = np.zeros((Nx), dtype='complex')\n",
    "    for i in range(0,Nx_2-1):\n",
    "        K[i] = 0.5*(2*np.pi/L)**2 *i*i\n",
    "        print(i)\n",
    "    for i in range(Nx_2,Nx-1):\n",
    "        K[i] = 0.5*(2*np.pi/L)**2 *(i-Nx)*(i-Nx)\n",
    "        print(i)\n",
    "    return K"
   ]
  },
  {
   "cell_type": "markdown",
   "id": "4df5b182",
   "metadata": {},
   "source": [
    "la fonction $\\textit{Concentration de masse}$ va nous donner la norme de la fonction psi compris entre $a$ et $b$ en fonction des paramètres numérique $L$ et $Nx$ du problème."
   ]
  },
  {
   "cell_type": "code",
   "execution_count": null,
   "id": "b391f5ed",
   "metadata": {},
   "outputs": [],
   "source": [
    "def Concentration_de_masse(psi,Nx,L,a,b):\n",
    "    l = np.abs(b-a);    occupation  = l/(2*L) \n",
    "    an = int((np.abs(a+L)/(2*L))*Nx) ; bn = int((np.abs(b+L)/(2*L))*Nx)\n",
    "    N = np.abs(bn-an)\n",
    "    print(l,N,an,bn)\n",
    "    psi_l = psi[an:bn]\n",
    "    masse = np.sqrt(l/N)*np.linalg.norm(psi_l)\n",
    "    return masse"
   ]
  },
  {
   "cell_type": "markdown",
   "id": "50d0752e",
   "metadata": {},
   "source": [
    "la fonction $\\textit{dynamics-fft-diss}$ calcul la solution de l'équation de schrödinger par méthode semi-spectral en espace et splitting en temps. \n",
    "la fonction sauvegarde en chaque pas de temps la solution $\\psi_t$ et sa transformée de fourier $\\phi_t = \\mathcal{F}(\\psi_t)$"
   ]
  },
  {
   "cell_type": "code",
   "execution_count": null,
   "id": "d84e055d",
   "metadata": {},
   "outputs": [],
   "source": [
    "def dynamics_fft_diss(psi0_fun=(lambda x: np.exp(-x**2)), V_fun=(lambda x,t: 0), L=10, Nx=100, T=4, Nt=100):\n",
    "\n",
    "    dt = T/Nt; dx = L/Nx\n",
    "    # Kinetic = Kin(Nx)\n",
    "    Kinetic = (0.5*(2*np.pi/L)**2) *np.fft.fftfreq(Nx, dx)*np.fft.fftfreq(Nx, dx)\n",
    "    I = np.linspace(-L, L,Nx,endpoint=False)\n",
    "    Psi_T = np.zeros((Nx,Nt), dtype=\"complex\")\n",
    "    Phi_T = np.zeros((Nx,Nt), dtype=\"complex\")\n",
    "\n",
    "    Psi_T[:,0]=psi0_fun(I)\n",
    "    \n",
    "    \n",
    "    for i in range(1,Nt):\n",
    "        ti = dt*i\n",
    "        Phi_T[:,i] = (np.exp(-1j*Kinetic*dt)) * fft(np.exp(-1j*V_fun(I,ti)*dt) * Psi_T[:,i-1])\n",
    "        Psi_T[:,i] = ifft(Phi_T[:,i])\n",
    "        # print(ti,np.sqrt(L/Nx)*np.linalg.norm(Psi_T[:,i]))\n",
    "    return Psi_T, Phi_T"
   ]
  },
  {
   "cell_type": "markdown",
   "id": "9c5d1b03",
   "metadata": {},
   "source": [
    "La fonction $\\textit{plot-psi}$ va crée une animation de notre simulation obtenu à partir de $\\textit{dynamics-fft-diss}$"
   ]
  },
  {
   "cell_type": "code",
   "execution_count": null,
   "id": "1bfa9e2e",
   "metadata": {},
   "outputs": [],
   "source": [
    "\n",
    "def plot_psi(psi, duration=10, frames_per_second=30, L=10, show_potential=False):\n",
    "    \n",
    "    fig, ax = plt.subplots()\n",
    "    t_data = np.linspace(0, 1, np.size(psi, 1)) # 1 is arbitrary here\n",
    "    x_data = np.linspace(-L,L,  np.size(psi,0))\n",
    "    # set the min and maximum values of the plot, to scale the axis\n",
    "    m = min(0, np.min(np.real(psi)), np.min(np.imag(psi)))\n",
    "    M = np.max(np.abs(psi))\n",
    "    \n",
    "    # set the axis once and for all\n",
    "    ax.set(xlim=[-L,L], ylim=[m,M], xlabel='x', ylabel='psi')\n",
    "    \n",
    "    # dummy plots, to update during the animation\n",
    "    real_plot = ax.plot(x_data, np.real(psi[:, 0]), label='Real')[0]\n",
    "    imag_plot = ax.plot(x_data, np.imag(psi[:, 0]), label='Imag')[0]\n",
    "    abs_plot  = ax.plot(x_data, np.abs(psi[:, 0]), label='Abs')[0]\n",
    "    if(show_potential):V_plot  =   ax.plot(x_data, V(x_data,0), label='V')[0]\n",
    "    ax.legend()\n",
    "\n",
    "    # define update function as an internal function (that can access the variables defined before)\n",
    "    # will be called with frame=0...(duration*frames_per_second)-1\n",
    "    def update(frame):\n",
    "        print(frame)\n",
    "        # get the data by linear interpolation\n",
    "        t = frame / (duration * frames_per_second)\n",
    "        psi_t = np.array([np.interp(t, t_data, psi[i, :]) for i in range(np.size(psi,0))])\n",
    "        # update the plots\n",
    "        real_plot.set_ydata(np.real(psi_t))\n",
    "        imag_plot.set_ydata(np.imag(psi_t))\n",
    "        abs_plot.set_ydata(np.abs(psi_t))\n",
    "\n",
    "    ani = animation.FuncAnimation(fig=fig, func=update, frames=duration*frames_per_second, interval=1000/frames_per_second)\n",
    "    return ani\n"
   ]
  },
  {
   "cell_type": "markdown",
   "id": "d9d1127a",
   "metadata": {},
   "source": [
    "Développement de la barrière de potentiel: $\\\\ $\n",
    "Avec la fonction $\\textit{Barriere-reg}$, nous allons pouvoir comparer le bruit causé par un choc entre une onde incidente et un potentiel discontinu avec un choc entre une incidente et un potentiel $C^\\infty$.\n",
    "Avec la fonction $\\textit{Concentration-de-masse}$, nous allons pouvoir étudier la masse qui est transmise par effet tunnel au travers de la barrière. $\\\\$ \n",
    "\n",
    "On note que cette étude peut s'étendre au cas du puit de potentiel lorsque l'on pose deux barrière des deux côtes de l'onde."
   ]
  },
  {
   "cell_type": "code",
   "execution_count": null,
   "id": "0bea4e50",
   "metadata": {},
   "outputs": [],
   "source": [
    "a=1; kx=1000; x0=-3\n",
    "psi0= lambda x: 1/(np.sqrt(2*np.pi *a*a)) *np.exp(-((x-x0)*(x-x0))/(2*a*a)) *np.exp(1j*kx*(x-x0))\n",
    "\n",
    "L=20; Nx=2000; Nt=5000; T=50\n",
    "l=0.2; s=4; V0=10; epsi=0.1\n",
    "\n",
    "V = lambda x,t : V0*(x<=s+l )*(x>=s) + V0*(x>=-s)*(x<=-s-l)                     #barriere discontinue\n",
    "V = lambda x,t : barriere_reg(x,t,s,s+l,epsi) + barriere_reg(x,t,-s-l,-s,epsi)  #barriere C infty\n"
   ]
  }
 ],
 "metadata": {
  "language_info": {
   "name": "python"
  }
 },
 "nbformat": 4,
 "nbformat_minor": 5
}
